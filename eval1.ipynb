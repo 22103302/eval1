{
 "cells": [
  {
   "cell_type": "code",
   "execution_count": 19,
   "id": "9cbcfdc4",
   "metadata": {},
   "outputs": [
    {
     "name": "stdout",
     "output_type": "stream",
     "text": [
      "Enter name: er\n",
      "Enter phone number: 45\n",
      "Enter email address: d\n",
      "{'er': ['45', 'd']}\n"
     ]
    }
   ],
   "source": [
    "contacts = {}\n",
    "\n",
    "def add_contacts():\n",
    "    name = input(\"Enter name: \")\n",
    "    phone_num = input(\"Enter phone number: \")\n",
    "    email = input(\"Enter email address: \")\n",
    "    contacts[name] = [phone_num, email]  \n",
    "    return contacts\n",
    "\n",
    "ans1 = add_contacts()\n",
    "print(ans1)"
   ]
  },
  {
   "cell_type": "code",
   "execution_count": 21,
   "id": "54163f7e",
   "metadata": {},
   "outputs": [
    {
     "name": "stdout",
     "output_type": "stream",
     "text": [
      "Enter phone number: 56\n",
      "Enter email address: fd\n",
      "{'er': ['45', 'd'], 'rt': ['56', 'fd']}\n"
     ]
    }
   ],
   "source": [
    "def update_contacts(name):\n",
    "    phone_num = input(\"Enter phone number: \")\n",
    "    email = input(\"Enter email address: \")\n",
    "    if name in contacts:\n",
    "        contacts[name] = [phone_num, email]\n",
    "        \n",
    "    return contacts\n",
    "\n",
    "ans2 = update_contacts(\"rt\")\n",
    "print(ans2)"
   ]
  },
  {
   "cell_type": "code",
   "execution_count": 26,
   "id": "3aa620b4",
   "metadata": {},
   "outputs": [
    {
     "name": "stdout",
     "output_type": "stream",
     "text": [
      "{'er': ['45', 'd']}\n"
     ]
    }
   ],
   "source": [
    "def delete_contact(name):\n",
    "    if name in contacts:\n",
    "        del contacts[name]\n",
    "        \n",
    "    return contacts\n",
    "\n",
    "ans3 = delete_contact(\"rt\")\n",
    "print(ans3)"
   ]
  },
  {
   "cell_type": "code",
   "execution_count": 25,
   "id": "95dec88b",
   "metadata": {},
   "outputs": [
    {
     "name": "stdout",
     "output_type": "stream",
     "text": [
      "{'er': ['45', 'd']}\n"
     ]
    }
   ],
   "source": [
    "def list_contacts():\n",
    "    return contacts\n",
    "\n",
    "ans4 = list_contacts()\n",
    "print(ans4)"
   ]
  },
  {
   "cell_type": "code",
   "execution_count": 33,
   "id": "e465e2e9",
   "metadata": {},
   "outputs": [
    {
     "name": "stdout",
     "output_type": "stream",
     "text": [
      "['45', 'd']\n"
     ]
    }
   ],
   "source": [
    "def search_contacts(name):\n",
    "    if name in contacts:\n",
    "        result = contacts[name] or contacts[email]\n",
    "            \n",
    "    return result\n",
    "\n",
    "ans5 = search_contacts(\"er\")\n",
    "print(ans5)"
   ]
  },
  {
   "cell_type": "code",
   "execution_count": 32,
   "id": "aed8d8fa",
   "metadata": {},
   "outputs": [
    {
     "ename": "TypeError",
     "evalue": "filter expected 2 arguments, got 1",
     "output_type": "error",
     "traceback": [
      "\u001b[1;31m---------------------------------------------------------------------------\u001b[0m",
      "\u001b[1;31mTypeError\u001b[0m                                 Traceback (most recent call last)",
      "Cell \u001b[1;32mIn[32], line 5\u001b[0m\n\u001b[0;32m      2\u001b[0m     ans \u001b[38;5;241m=\u001b[39m \u001b[38;5;28mfilter\u001b[39m(contacts[name] \u001b[38;5;28;01mfor\u001b[39;00m contacts[name] \u001b[38;5;129;01min\u001b[39;00m contacts \u001b[38;5;28;01mif\u001b[39;00m contacts\u001b[38;5;241m.\u001b[39mkey()[\u001b[38;5;241m0\u001b[39m] \u001b[38;5;241m==\u001b[39m filter_key)\n\u001b[0;32m      3\u001b[0m     \u001b[38;5;28;01mreturn\u001b[39;00m ans\n\u001b[1;32m----> 5\u001b[0m ans6 \u001b[38;5;241m=\u001b[39m list_contacts(\u001b[38;5;124m\"\u001b[39m\u001b[38;5;124me\u001b[39m\u001b[38;5;124m\"\u001b[39m)\n\u001b[0;32m      6\u001b[0m \u001b[38;5;28mprint\u001b[39m(ans6)\n",
      "Cell \u001b[1;32mIn[32], line 2\u001b[0m, in \u001b[0;36mlist_contacts\u001b[1;34m(filter_key)\u001b[0m\n\u001b[0;32m      1\u001b[0m \u001b[38;5;28;01mdef\u001b[39;00m \u001b[38;5;21mlist_contacts\u001b[39m(filter_key):\n\u001b[1;32m----> 2\u001b[0m     ans \u001b[38;5;241m=\u001b[39m \u001b[38;5;28mfilter\u001b[39m(contacts[name] \u001b[38;5;28;01mfor\u001b[39;00m contacts[name] \u001b[38;5;129;01min\u001b[39;00m contacts \u001b[38;5;28;01mif\u001b[39;00m contacts\u001b[38;5;241m.\u001b[39mkey()[\u001b[38;5;241m0\u001b[39m] \u001b[38;5;241m==\u001b[39m filter_key)\n\u001b[0;32m      3\u001b[0m     \u001b[38;5;28;01mreturn\u001b[39;00m ans\n",
      "\u001b[1;31mTypeError\u001b[0m: filter expected 2 arguments, got 1"
     ]
    }
   ],
   "source": [
    "def list_contacts(filter_key):\n",
    "    ans = filter(contacts[name] for contacts[name] in contacts if contacts.key()[0] == filter_key)\n",
    "    return ans\n",
    "\n",
    "ans6 = list_contacts(\"e\")\n",
    "print(ans6)"
   ]
  },
  {
   "cell_type": "code",
   "execution_count": null,
   "id": "cde78eb6",
   "metadata": {},
   "outputs": [],
   "source": []
  }
 ],
 "metadata": {
  "kernelspec": {
   "display_name": "Python 3 (ipykernel)",
   "language": "python",
   "name": "python3"
  },
  "language_info": {
   "codemirror_mode": {
    "name": "ipython",
    "version": 3
   },
   "file_extension": ".py",
   "mimetype": "text/x-python",
   "name": "python",
   "nbconvert_exporter": "python",
   "pygments_lexer": "ipython3",
   "version": "3.11.5"
  }
 },
 "nbformat": 4,
 "nbformat_minor": 5
}
